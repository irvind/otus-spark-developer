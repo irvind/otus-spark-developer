{
 "cells": [
  {
   "cell_type": "code",
   "execution_count": 55,
   "id": "fc0cfaf5-3562-4ff9-8303-54f7bf14f8c6",
   "metadata": {
    "tags": []
   },
   "outputs": [],
   "source": [
    "// https://spark.apache.org/docs/3.3.0/api/scala/org/apache/spark/sql/Dataset.html\n",
    "// https://spark.apache.org/docs/latest/sql-data-sources-csv.html\n",
    "// val columns = Seq(\"StudentID\", \"Course\")\n",
    "// val data = Seq((\"1\", \"Spark\"), (\"2\", \"Scala\"), (\"3\", \"Java\"))\n",
    "// val fromRDD: DataFrame = spark.sparkContext.parallelize(data).toDF(columns: _*)\n",
    "// fromRDD.show()"
   ]
  },
  {
   "cell_type": "code",
   "execution_count": 2,
   "id": "56400a49-fd69-41ac-b3e5-5d988403516f",
   "metadata": {
    "tags": []
   },
   "outputs": [
    {
     "data": {
      "text/plain": [
       "\u001b[32mimport \u001b[39m\u001b[36m$ivy.$\u001b[39m"
      ]
     },
     "execution_count": 2,
     "metadata": {},
     "output_type": "execute_result"
    }
   ],
   "source": [
    "import $ivy.`org.apache.spark::spark-sql:3.3.0`"
   ]
  },
  {
   "cell_type": "code",
   "execution_count": 3,
   "id": "3d16992b-07e7-431c-9bee-f4e5eb11ae7d",
   "metadata": {
    "tags": []
   },
   "outputs": [
    {
     "data": {
      "text/plain": [
       "\u001b[32mimport \u001b[39m\u001b[36morg.apache.spark.sql._\u001b[39m\n",
       "\u001b[32mimport \u001b[39m\u001b[36morg.apache.spark.sql.functions._\u001b[39m"
      ]
     },
     "execution_count": 3,
     "metadata": {},
     "output_type": "execute_result"
    }
   ],
   "source": [
    "import org.apache.spark.sql._\n",
    "import org.apache.spark.sql.functions._"
   ]
  },
  {
   "cell_type": "code",
   "execution_count": 18,
   "id": "52633cb5-f8af-4de6-8cc2-b64105772b3c",
   "metadata": {
    "tags": []
   },
   "outputs": [
    {
     "data": {
      "text/plain": [
       "\u001b[36mspark\u001b[39m: \u001b[32mSparkSession\u001b[39m = org.apache.spark.sql.SparkSession@4736f7da"
      ]
     },
     "execution_count": 18,
     "metadata": {},
     "output_type": "execute_result"
    }
   ],
   "source": [
    "val spark = (SparkSession.builder()\n",
    "             .master(\"local[*]\")\n",
    "             .appName(\"OTUS lesson\")\n",
    "             .getOrCreate()) \n",
    "spark.sparkContext.setLogLevel(\"ERROR\")"
   ]
  },
  {
   "cell_type": "code",
   "execution_count": 19,
   "id": "fb8339ee-836e-464c-8be7-23af6a08c07d",
   "metadata": {
    "tags": []
   },
   "outputs": [
    {
     "data": {
      "text/plain": [
       "\u001b[32mimport \u001b[39m\u001b[36mspark.implicits._\u001b[39m"
      ]
     },
     "execution_count": 19,
     "metadata": {},
     "output_type": "execute_result"
    }
   ],
   "source": [
    "import spark.implicits._"
   ]
  },
  {
   "cell_type": "code",
   "execution_count": 21,
   "id": "f51741e5-3133-4558-8704-29536b3df568",
   "metadata": {
    "tags": []
   },
   "outputs": [
    {
     "name": "stdout",
     "output_type": "stream",
     "text": [
      "spark.version == 3.3.0\n"
     ]
    }
   ],
   "source": [
    "println(s\"spark.version == ${spark.version}\")"
   ]
  },
  {
   "cell_type": "code",
   "execution_count": 24,
   "id": "05d5bee5-a6dd-4956-bdf5-17deb2f4df71",
   "metadata": {
    "scrolled": true,
    "tags": []
   },
   "outputs": [
    {
     "data": {
      "text/plain": [
       "\u001b[36mtripsDF\u001b[39m: \u001b[32mDataFrame\u001b[39m = [VendorID: int, tpep_pickup_datetime: timestamp ... 15 more fields]\n",
       "\u001b[36mzonesDF\u001b[39m: \u001b[32mDataFrame\u001b[39m = [LocationID: string, Borough: string ... 2 more fields]"
      ]
     },
     "execution_count": 24,
     "metadata": {},
     "output_type": "execute_result"
    }
   ],
   "source": [
    "val tripsDF = spark.read.parquet(\"yellow_taxi.parquet\")\n",
    "val zonesDF = spark.read.option(\"header\", \"true\").csv(\"taxi_zones.csv\")"
   ]
  },
  {
   "cell_type": "code",
   "execution_count": 25,
   "id": "8a632f03-4a76-4cba-8564-656060448d20",
   "metadata": {
    "scrolled": true,
    "tags": []
   },
   "outputs": [
    {
     "name": "stdout",
     "output_type": "stream",
     "text": [
      "+--------+--------------------+---------------------+---------------+-------------+----------+------------------+------------+------------+------------+-----------+-----+-------+----------+------------+---------------------+------------+\n",
      "|VendorID|tpep_pickup_datetime|tpep_dropoff_datetime|passenger_count|trip_distance|RatecodeID|store_and_fwd_flag|PULocationID|DOLocationID|payment_type|fare_amount|extra|mta_tax|tip_amount|tolls_amount|improvement_surcharge|total_amount|\n",
      "+--------+--------------------+---------------------+---------------+-------------+----------+------------------+------------+------------+------------+-----------+-----+-------+----------+------------+---------------------+------------+\n",
      "|       2| 2018-01-25 02:02:56|  2018-01-25 02:10:58|              1|         2.02|         1|                 N|          48|         107|           2|        8.5|  0.5|    0.5|       0.0|         0.0|                  0.3|         9.8|\n",
      "|       2| 2018-01-25 02:57:13|  2018-01-25 03:21:17|              1|        10.13|         1|                 N|          79|         244|           2|       28.5|  0.5|    0.5|       0.0|         0.0|                  0.3|        29.8|\n",
      "|       2| 2018-01-25 04:29:32|  2018-01-25 04:41:29|              1|         3.38|         1|                 N|         239|          48|           1|       13.0|  0.0|    0.5|      2.76|         0.0|                  0.3|       16.56|\n",
      "|       2| 2018-01-25 04:43:47|  2018-01-25 05:10:50|              1|          8.6|         1|                 N|          48|          36|           1|       28.0|  0.0|    0.5|       7.2|         0.0|                  0.3|        36.0|\n",
      "|       2| 2018-01-25 05:36:35|  2018-01-25 05:41:39|              1|         1.24|         1|                 N|         170|         107|           2|        6.0|  0.0|    0.5|       0.0|         0.0|                  0.3|         6.8|\n",
      "|       2| 2018-01-25 08:14:21|  2018-01-25 08:30:04|              2|         2.47|         1|                 N|         151|         238|           1|       12.5|  0.0|    0.5|      2.66|         0.0|                  0.3|       15.96|\n",
      "|       2| 2018-01-25 08:31:54|  2018-01-25 08:40:26|              1|         1.53|         1|                 N|         238|         143|           1|        8.0|  0.0|    0.5|      1.32|         0.0|                  0.3|       10.12|\n",
      "|       2| 2018-01-25 08:45:31|  2018-01-25 08:59:40|              2|          1.9|         1|                 N|         239|         237|           1|       11.0|  0.0|    0.5|      2.36|         0.0|                  0.3|       14.16|\n",
      "|       2| 2018-01-25 09:05:28|  2018-01-25 09:10:12|              1|          0.6|         1|                 N|         141|         237|           1|        5.0|  0.0|    0.5|      1.16|         0.0|                  0.3|        6.96|\n",
      "|       2| 2018-01-25 09:11:49|  2018-01-25 09:17:53|              1|         0.66|         1|                 N|         236|         236|           1|        5.5|  0.0|    0.5|      1.26|         0.0|                  0.3|        7.56|\n",
      "|       2| 2018-01-25 09:24:34|  2018-01-25 09:37:17|              2|         1.88|         1|                 N|         239|         237|           2|       10.0|  0.0|    0.5|       0.0|         0.0|                  0.3|        10.8|\n",
      "|       2| 2018-01-25 09:46:42|  2018-01-25 09:59:10|              1|         1.51|         1|                 N|         237|          50|           1|        9.5|  0.0|    0.5|      2.06|         0.0|                  0.3|       12.36|\n",
      "|       2| 2018-01-25 10:08:28|  2018-01-25 10:19:08|              1|         1.49|         1|                 N|         143|         238|           1|        8.5|  0.0|    0.5|       1.0|         0.0|                  0.3|        10.3|\n",
      "|       2| 2018-01-25 10:23:13|  2018-01-25 10:38:30|              1|         2.61|         1|                 N|         238|         237|           1|       12.0|  0.0|    0.5|      2.56|         0.0|                  0.3|       15.36|\n",
      "|       2| 2018-01-25 10:47:34|  2018-01-25 10:52:06|              1|         0.48|         1|                 N|         141|         140|           2|        4.5|  0.0|    0.5|       0.0|         0.0|                  0.3|         5.3|\n",
      "|       2| 2018-01-25 10:54:20|  2018-01-25 11:03:16|              1|         1.35|         1|                 N|         140|         236|           2|        7.5|  0.0|    0.5|       0.0|         0.0|                  0.3|         8.3|\n",
      "|       2| 2018-01-25 11:05:03|  2018-01-25 11:06:28|              2|         0.19|         1|                 N|         236|         236|           1|        3.0|  0.0|    0.5|      0.76|         0.0|                  0.3|        4.56|\n",
      "|       2| 2018-01-25 11:14:28|  2018-01-25 11:27:28|              1|         2.39|         1|                 N|         236|         166|           2|       11.5|  0.0|    0.5|       0.0|         0.0|                  0.3|        12.3|\n",
      "|       2| 2018-01-25 11:58:38|  2018-01-25 12:02:50|              1|         0.67|         1|                 N|         151|         238|           1|        5.0|  0.0|    0.5|       1.0|         0.0|                  0.3|         6.8|\n",
      "|       2| 2018-01-25 12:05:37|  2018-01-25 12:17:34|              1|         2.18|         1|                 N|         238|         238|           1|       10.0|  0.0|    0.5|      3.24|         0.0|                  0.3|       14.04|\n",
      "+--------+--------------------+---------------------+---------------+-------------+----------+------------------+------------+------------+------------+-----------+-----+-------+----------+------------+---------------------+------------+\n",
      "only showing top 20 rows\n",
      "\n"
     ]
    }
   ],
   "source": [
    "tripsDF.show()"
   ]
  },
  {
   "cell_type": "code",
   "execution_count": 16,
   "id": "42fe8e5e-913b-48c9-be23-179a2942b8c1",
   "metadata": {
    "tags": []
   },
   "outputs": [
    {
     "data": {
      "text/plain": [
       "\u001b[36mres16\u001b[39m: \u001b[32mArray\u001b[39m[(\u001b[32mString\u001b[39m, \u001b[32mString\u001b[39m)] = \u001b[33mArray\u001b[39m(\n",
       "  (\u001b[32m\"VendorID\"\u001b[39m, \u001b[32m\"IntegerType\"\u001b[39m),\n",
       "  (\u001b[32m\"tpep_pickup_datetime\"\u001b[39m, \u001b[32m\"TimestampType\"\u001b[39m),\n",
       "  (\u001b[32m\"tpep_dropoff_datetime\"\u001b[39m, \u001b[32m\"TimestampType\"\u001b[39m),\n",
       "  (\u001b[32m\"passenger_count\"\u001b[39m, \u001b[32m\"IntegerType\"\u001b[39m),\n",
       "  (\u001b[32m\"trip_distance\"\u001b[39m, \u001b[32m\"DoubleType\"\u001b[39m),\n",
       "  (\u001b[32m\"RatecodeID\"\u001b[39m, \u001b[32m\"IntegerType\"\u001b[39m),\n",
       "  (\u001b[32m\"store_and_fwd_flag\"\u001b[39m, \u001b[32m\"StringType\"\u001b[39m),\n",
       "  (\u001b[32m\"PULocationID\"\u001b[39m, \u001b[32m\"IntegerType\"\u001b[39m),\n",
       "  (\u001b[32m\"DOLocationID\"\u001b[39m, \u001b[32m\"IntegerType\"\u001b[39m),\n",
       "  (\u001b[32m\"payment_type\"\u001b[39m, \u001b[32m\"IntegerType\"\u001b[39m),\n",
       "  (\u001b[32m\"fare_amount\"\u001b[39m, \u001b[32m\"DoubleType\"\u001b[39m),\n",
       "  (\u001b[32m\"extra\"\u001b[39m, \u001b[32m\"DoubleType\"\u001b[39m),\n",
       "  (\u001b[32m\"mta_tax\"\u001b[39m, \u001b[32m\"DoubleType\"\u001b[39m),\n",
       "  (\u001b[32m\"tip_amount\"\u001b[39m, \u001b[32m\"DoubleType\"\u001b[39m),\n",
       "  (\u001b[32m\"tolls_amount\"\u001b[39m, \u001b[32m\"DoubleType\"\u001b[39m),\n",
       "  (\u001b[32m\"improvement_surcharge\"\u001b[39m, \u001b[32m\"DoubleType\"\u001b[39m),\n",
       "  (\u001b[32m\"total_amount\"\u001b[39m, \u001b[32m\"DoubleType\"\u001b[39m)\n",
       ")"
      ]
     },
     "execution_count": 16,
     "metadata": {},
     "output_type": "execute_result"
    }
   ],
   "source": [
    "ridesDF.dtypes"
   ]
  },
  {
   "cell_type": "code",
   "execution_count": 26,
   "id": "d84b5c25-354b-465c-9376-180cc1a1e478",
   "metadata": {
    "scrolled": true,
    "tags": []
   },
   "outputs": [
    {
     "name": "stdout",
     "output_type": "stream",
     "text": [
      "+----------+-------------+--------------------+------------+\n",
      "|LocationID|      Borough|                Zone|service_zone|\n",
      "+----------+-------------+--------------------+------------+\n",
      "|         1|          EWR|      Newark Airport|         EWR|\n",
      "|         2|       Queens|         Jamaica Bay|        BORO|\n",
      "|         3|        Bronx|Allerton/Pelham G...|        BORO|\n",
      "|         4|    Manhattan|       Alphabet City|      yeLLow|\n",
      "|         5|Staten Island|       Arden Heights|        BORO|\n",
      "|         6|Staten Island|Arrochar/Fort Wad...|        BORO|\n",
      "|         7|       Queens|             Astoria|        bOrO|\n",
      "|         8|       Queens|        Astoria Park|        BORO|\n",
      "|         9|       Queens|          Auburndale|        BORO|\n",
      "|        10|       Queens|        Baisley Park|        BORO|\n",
      "|        11|     Brooklyn|          Bath Beach|        Boro|\n",
      "|        12|    Manhattan|        Battery Park|      YELLOW|\n",
      "|        13|    Manhattan|   Battery Park City|      yeLLow|\n",
      "|        14|     Brooklyn|           Bay Ridge|        BORO|\n",
      "|        15|       Queens|Bay Terrace/Fort ...|        BORO|\n",
      "|        16|       Queens|             Bayside|        BORO|\n",
      "|        17|     Brooklyn|             Bedford|        BORO|\n",
      "|        18|        Bronx|        Bedford Park|        BORO|\n",
      "|        19|       Queens|           Bellerose|        BORO|\n",
      "|        20|        Bronx|             Belmont|        BORO|\n",
      "+----------+-------------+--------------------+------------+\n",
      "only showing top 20 rows\n",
      "\n"
     ]
    }
   ],
   "source": [
    "zonesDF.show()"
   ]
  },
  {
   "cell_type": "code",
   "execution_count": 27,
   "id": "31bfaddc-92c1-43ba-9dbe-e4f5a14663b1",
   "metadata": {
    "tags": []
   },
   "outputs": [],
   "source": [
    "tripsDF.createOrReplaceTempView(\"trips\")\n",
    "zonesDF.createOrReplaceTempView(\"locations\")"
   ]
  },
  {
   "cell_type": "code",
   "execution_count": 30,
   "id": "905569fd-a8da-4b68-ac7e-484acebd6e93",
   "metadata": {
    "tags": []
   },
   "outputs": [
    {
     "name": "stdout",
     "output_type": "stream",
     "text": [
      "Самые популярные районы для заказов\n",
      "+------------+----------------------------+----------+\n",
      "|PULocationID|Zone                        |trip_count|\n",
      "+------------+----------------------------+----------+\n",
      "|237         |Upper East Side South       |15945     |\n",
      "|161         |Midtown Center              |15255     |\n",
      "|236         |Upper East Side North       |13767     |\n",
      "|162         |Midtown East                |13715     |\n",
      "|170         |Murray Hill                 |11702     |\n",
      "|234         |Union Sq                    |11488     |\n",
      "|230         |Times Sq/Theatre District   |11455     |\n",
      "|186         |Penn Station/Madison Sq West|10319     |\n",
      "|48          |Clinton East                |10091     |\n",
      "|163         |Midtown North               |9845      |\n",
      "+------------+----------------------------+----------+\n",
      "\n"
     ]
    },
    {
     "data": {
      "text/plain": [
       "\u001b[36mpoupularZones\u001b[39m: \u001b[32mDataFrame\u001b[39m = [PULocationID: int, Zone: string ... 1 more field]"
      ]
     },
     "execution_count": 30,
     "metadata": {},
     "output_type": "execute_result"
    }
   ],
   "source": [
    "val poupularZones = spark.sql(\"\"\"\n",
    "    SELECT t.PULocationID, l.Zone, count(*) as trip_count\n",
    "    FROM trips t JOIN locations l ON t.PULocationID = l.LocationID\n",
    "    GROUP BY t.PULocationID, l.Zone\n",
    "    ORDER BY trip_count DESC\n",
    "    LIMIT 10\n",
    "\"\"\")\n",
    "println(\"Самые популярные районы для заказов\")\n",
    "poupularZones.show(false)"
   ]
  },
  {
   "cell_type": "code",
   "execution_count": 31,
   "id": "83ba1fb2-3124-4883-9e46-626d8c172496",
   "metadata": {
    "tags": []
   },
   "outputs": [],
   "source": [
    "poupularZones.write.parquet(\"poupularZones.parquet\")"
   ]
  },
  {
   "cell_type": "code",
   "execution_count": 31,
   "id": "d7268d2d-6138-4919-a4b2-a2abd858720c",
   "metadata": {
    "tags": []
   },
   "outputs": [],
   "source": [
    "// var df_top = (\n",
    "//     df1.groupBy(\"PULocationID\")\n",
    "//     .count()\n",
    "//     .orderBy($\"count\".desc)\n",
    "//     .limit(1)\n",
    "//     .join(df2, $\"PULocationID\" === $\"LocationID\", \"inner\")\n",
    "//     .drop(\"service_zone\")\n",
    "// )\n",
    "// df_top.show(10, false)"
   ]
  },
  {
   "cell_type": "code",
   "execution_count": 31,
   "id": "8f56faa7-6bd7-4652-8a53-a20357318b1e",
   "metadata": {
    "tags": []
   },
   "outputs": [],
   "source": [
    "// df_top.createOrReplaceTempView(\"table1\")"
   ]
  },
  {
   "cell_type": "code",
   "execution_count": 31,
   "id": "ba5b0cf8-ad9c-43de-8e92-71251acddabf",
   "metadata": {
    "tags": []
   },
   "outputs": [],
   "source": [
    "// val res = spark.sql(\"SELECT * FROM table1\")"
   ]
  },
  {
   "cell_type": "code",
   "execution_count": 32,
   "id": "73494998-cef1-41bf-81ef-b8399e6b3ac0",
   "metadata": {
    "tags": []
   },
   "outputs": [
    {
     "data": {
      "text/plain": [
       "\u001b[36mtripsRDD\u001b[39m: \u001b[32morg\u001b[39m.\u001b[32mapache\u001b[39m.\u001b[32mspark\u001b[39m.\u001b[32mrdd\u001b[39m.\u001b[32mRDD\u001b[39m[\u001b[32mRow\u001b[39m] = MapPartitionsRDD[136] at rdd at cmd32.sc:1"
      ]
     },
     "execution_count": 32,
     "metadata": {},
     "output_type": "execute_result"
    }
   ],
   "source": [
    "val tripsRDD = tripsDF.rdd"
   ]
  },
  {
   "cell_type": "code",
   "execution_count": 45,
   "id": "b21ac2e2-e0df-45b2-b1b5-dcc1373c69b5",
   "metadata": {
    "tags": []
   },
   "outputs": [
    {
     "name": "stderr",
     "output_type": "stream",
     "text": [
      "cmd45.sc:2: method getHours in class Date is deprecated\n",
      "    x => x.getTimestamp(x.fieldIndex(\"tpep_pickup_datetime\")).getHours()\n",
      "                                                              ^\n"
     ]
    },
    {
     "name": "stdout",
     "output_type": "stream",
     "text": [
      "Статистика по времени (час), когда происходит больше всего вызовов\n",
      "(19,22121)\n",
      "(20,21598)\n",
      "(22,20884)\n",
      "(21,20318)\n",
      "(23,19528)\n",
      "(9,18867)\n",
      "(18,18664)\n",
      "(16,17843)\n",
      "(15,17483)\n",
      "(10,16840)\n",
      "(17,16160)\n",
      "(14,16082)\n",
      "(13,16001)\n",
      "(12,15564)\n",
      "(8,15445)\n",
      "(11,15348)\n",
      "(0,14652)\n",
      "(7,8600)\n",
      "(1,7050)\n",
      "(2,3978)\n",
      "(6,3133)\n",
      "(3,2538)\n",
      "(4,1610)\n",
      "(5,1586)\n"
     ]
    },
    {
     "data": {
      "text/plain": [
       "\u001b[36mpopularTime\u001b[39m: \u001b[32morg\u001b[39m.\u001b[32mapache\u001b[39m.\u001b[32mspark\u001b[39m.\u001b[32mrdd\u001b[39m.\u001b[32mRDD\u001b[39m[(\u001b[32mInt\u001b[39m, \u001b[32mInt\u001b[39m)] = MapPartitionsRDD[224] at sortBy at cmd45.sc:3\n",
       "\u001b[36mres\u001b[39m: \u001b[32mArray\u001b[39m[(\u001b[32mInt\u001b[39m, \u001b[32mInt\u001b[39m)] = \u001b[33mArray\u001b[39m(\n",
       "  (\u001b[32m19\u001b[39m, \u001b[32m22121\u001b[39m),\n",
       "  (\u001b[32m20\u001b[39m, \u001b[32m21598\u001b[39m),\n",
       "  (\u001b[32m22\u001b[39m, \u001b[32m20884\u001b[39m),\n",
       "  (\u001b[32m21\u001b[39m, \u001b[32m20318\u001b[39m),\n",
       "  (\u001b[32m23\u001b[39m, \u001b[32m19528\u001b[39m),\n",
       "  (\u001b[32m9\u001b[39m, \u001b[32m18867\u001b[39m),\n",
       "  (\u001b[32m18\u001b[39m, \u001b[32m18664\u001b[39m),\n",
       "  (\u001b[32m16\u001b[39m, \u001b[32m17843\u001b[39m),\n",
       "  (\u001b[32m15\u001b[39m, \u001b[32m17483\u001b[39m),\n",
       "  (\u001b[32m10\u001b[39m, \u001b[32m16840\u001b[39m),\n",
       "  (\u001b[32m17\u001b[39m, \u001b[32m16160\u001b[39m),\n",
       "  (\u001b[32m14\u001b[39m, \u001b[32m16082\u001b[39m),\n",
       "  (\u001b[32m13\u001b[39m, \u001b[32m16001\u001b[39m),\n",
       "  (\u001b[32m12\u001b[39m, \u001b[32m15564\u001b[39m),\n",
       "  (\u001b[32m8\u001b[39m, \u001b[32m15445\u001b[39m),\n",
       "  (\u001b[32m11\u001b[39m, \u001b[32m15348\u001b[39m),\n",
       "  (\u001b[32m0\u001b[39m, \u001b[32m14652\u001b[39m),\n",
       "  (\u001b[32m7\u001b[39m, \u001b[32m8600\u001b[39m),\n",
       "  (\u001b[32m1\u001b[39m, \u001b[32m7050\u001b[39m),\n",
       "  (\u001b[32m2\u001b[39m, \u001b[32m3978\u001b[39m),\n",
       "  (\u001b[32m6\u001b[39m, \u001b[32m3133\u001b[39m),\n",
       "  (\u001b[32m3\u001b[39m, \u001b[32m2538\u001b[39m),\n",
       "  (\u001b[32m4\u001b[39m, \u001b[32m1610\u001b[39m),\n",
       "  (\u001b[32m5\u001b[39m, \u001b[32m1586\u001b[39m)\n",
       ")"
      ]
     },
     "execution_count": 45,
     "metadata": {},
     "output_type": "execute_result"
    }
   ],
   "source": [
    "val popularTime = tripsRDD.map(\n",
    "    x => x.getTimestamp(x.fieldIndex(\"tpep_pickup_datetime\")).getHours()\n",
    ").map(word => (word,1)).reduceByKey(_+_).sortBy(_._2, false)\n",
    "val res = popularTime.collect()\n",
    "println(\"Статистика по времени (час), когда происходит больше всего вызовов\")\n",
    "res.foreach(println)"
   ]
  },
  {
   "cell_type": "code",
   "execution_count": 48,
   "id": "2b1a06dc-d4bc-4a95-8d8c-89a55dc7de27",
   "metadata": {
    "tags": []
   },
   "outputs": [
    {
     "data": {
      "text/plain": [
       "\u001b[36mpopularTimeDF\u001b[39m: \u001b[32mDataFrame\u001b[39m = [_1: int, _2: int]"
      ]
     },
     "execution_count": 48,
     "metadata": {},
     "output_type": "execute_result"
    }
   ],
   "source": [
    "val popularTimeDF = spark.createDataFrame(popularTime)\n",
    "popularTimeDF.write.parquet(\"popularTime.parquet\")"
   ]
  },
  {
   "cell_type": "code",
   "execution_count": 50,
   "id": "86c5e728-3471-42fe-ac12-cb62784c109b",
   "metadata": {
    "tags": []
   },
   "outputs": [
    {
     "name": "stdout",
     "output_type": "stream",
     "text": [
      "+--------+--------------------+---------------------+---------------+-------------+----------+------------------+------------+------------+------------+-----------+-----+-------+----------+------------+---------------------+------------+\n",
      "|VendorID|tpep_pickup_datetime|tpep_dropoff_datetime|passenger_count|trip_distance|RatecodeID|store_and_fwd_flag|PULocationID|DOLocationID|payment_type|fare_amount|extra|mta_tax|tip_amount|tolls_amount|improvement_surcharge|total_amount|\n",
      "+--------+--------------------+---------------------+---------------+-------------+----------+------------------+------------+------------+------------+-----------+-----+-------+----------+------------+---------------------+------------+\n",
      "|       2| 2018-01-25 02:02:56|  2018-01-25 02:10:58|              1|         2.02|         1|                 N|          48|         107|           2|        8.5|  0.5|    0.5|       0.0|         0.0|                  0.3|         9.8|\n",
      "|       2| 2018-01-25 02:57:13|  2018-01-25 03:21:17|              1|        10.13|         1|                 N|          79|         244|           2|       28.5|  0.5|    0.5|       0.0|         0.0|                  0.3|        29.8|\n",
      "|       2| 2018-01-25 04:29:32|  2018-01-25 04:41:29|              1|         3.38|         1|                 N|         239|          48|           1|       13.0|  0.0|    0.5|      2.76|         0.0|                  0.3|       16.56|\n",
      "|       2| 2018-01-25 04:43:47|  2018-01-25 05:10:50|              1|          8.6|         1|                 N|          48|          36|           1|       28.0|  0.0|    0.5|       7.2|         0.0|                  0.3|        36.0|\n",
      "|       2| 2018-01-25 05:36:35|  2018-01-25 05:41:39|              1|         1.24|         1|                 N|         170|         107|           2|        6.0|  0.0|    0.5|       0.0|         0.0|                  0.3|         6.8|\n",
      "|       2| 2018-01-25 08:14:21|  2018-01-25 08:30:04|              2|         2.47|         1|                 N|         151|         238|           1|       12.5|  0.0|    0.5|      2.66|         0.0|                  0.3|       15.96|\n",
      "|       2| 2018-01-25 08:31:54|  2018-01-25 08:40:26|              1|         1.53|         1|                 N|         238|         143|           1|        8.0|  0.0|    0.5|      1.32|         0.0|                  0.3|       10.12|\n",
      "|       2| 2018-01-25 08:45:31|  2018-01-25 08:59:40|              2|          1.9|         1|                 N|         239|         237|           1|       11.0|  0.0|    0.5|      2.36|         0.0|                  0.3|       14.16|\n",
      "|       2| 2018-01-25 09:05:28|  2018-01-25 09:10:12|              1|          0.6|         1|                 N|         141|         237|           1|        5.0|  0.0|    0.5|      1.16|         0.0|                  0.3|        6.96|\n",
      "|       2| 2018-01-25 09:11:49|  2018-01-25 09:17:53|              1|         0.66|         1|                 N|         236|         236|           1|        5.5|  0.0|    0.5|      1.26|         0.0|                  0.3|        7.56|\n",
      "|       2| 2018-01-25 09:24:34|  2018-01-25 09:37:17|              2|         1.88|         1|                 N|         239|         237|           2|       10.0|  0.0|    0.5|       0.0|         0.0|                  0.3|        10.8|\n",
      "|       2| 2018-01-25 09:46:42|  2018-01-25 09:59:10|              1|         1.51|         1|                 N|         237|          50|           1|        9.5|  0.0|    0.5|      2.06|         0.0|                  0.3|       12.36|\n",
      "|       2| 2018-01-25 10:08:28|  2018-01-25 10:19:08|              1|         1.49|         1|                 N|         143|         238|           1|        8.5|  0.0|    0.5|       1.0|         0.0|                  0.3|        10.3|\n",
      "|       2| 2018-01-25 10:23:13|  2018-01-25 10:38:30|              1|         2.61|         1|                 N|         238|         237|           1|       12.0|  0.0|    0.5|      2.56|         0.0|                  0.3|       15.36|\n",
      "|       2| 2018-01-25 10:47:34|  2018-01-25 10:52:06|              1|         0.48|         1|                 N|         141|         140|           2|        4.5|  0.0|    0.5|       0.0|         0.0|                  0.3|         5.3|\n",
      "|       2| 2018-01-25 10:54:20|  2018-01-25 11:03:16|              1|         1.35|         1|                 N|         140|         236|           2|        7.5|  0.0|    0.5|       0.0|         0.0|                  0.3|         8.3|\n",
      "|       2| 2018-01-25 11:05:03|  2018-01-25 11:06:28|              2|         0.19|         1|                 N|         236|         236|           1|        3.0|  0.0|    0.5|      0.76|         0.0|                  0.3|        4.56|\n",
      "|       2| 2018-01-25 11:14:28|  2018-01-25 11:27:28|              1|         2.39|         1|                 N|         236|         166|           2|       11.5|  0.0|    0.5|       0.0|         0.0|                  0.3|        12.3|\n",
      "|       2| 2018-01-25 11:58:38|  2018-01-25 12:02:50|              1|         0.67|         1|                 N|         151|         238|           1|        5.0|  0.0|    0.5|       1.0|         0.0|                  0.3|         6.8|\n",
      "|       2| 2018-01-25 12:05:37|  2018-01-25 12:17:34|              1|         2.18|         1|                 N|         238|         238|           1|       10.0|  0.0|    0.5|      3.24|         0.0|                  0.3|       14.04|\n",
      "+--------+--------------------+---------------------+---------------+-------------+----------+------------------+------------+------------+------------+-----------+-----+-------+----------+------------+---------------------+------------+\n",
      "only showing top 20 rows\n",
      "\n"
     ]
    },
    {
     "data": {
      "text/plain": [
       "defined \u001b[32mclass\u001b[39m \u001b[36mTrip\u001b[39m\n",
       "\u001b[36mencoder\u001b[39m: \u001b[32mEncoder\u001b[39m[\u001b[32mTrip\u001b[39m] = \u001b[33mExpressionEncoder\u001b[39m(\n",
       "  objSerializer = \u001b[33mIf\u001b[39m(\n",
       "    predicate = \u001b[33mIsNull\u001b[39m(\n",
       "      child = \u001b[33mBoundReference\u001b[39m(\n",
       "        ordinal = \u001b[32m0\u001b[39m,\n",
       "        dataType = \u001b[33mObjectType\u001b[39m(cls = class ammonite.$sess.cmd50$Helper$Trip),\n",
       "        nullable = \u001b[32mtrue\u001b[39m\n",
       "      )\n",
       "    ),\n",
       "    trueValue = \u001b[33mLiteral\u001b[39m(\n",
       "      value = \u001b[32mnull\u001b[39m,\n",
       "      dataType = \u001b[33mSeq\u001b[39m(\n",
       "        \u001b[33mStructField\u001b[39m(\n",
       "          name = \u001b[32m\"VendorID\"\u001b[39m,\n",
       "          dataType = IntegerType,\n",
       "          nullable = \u001b[32mfalse\u001b[39m,\n",
       "          metadata = {}\n",
       "        )\n",
       "      )\n",
       "    ),\n",
       "    falseValue = \u001b[33mCreateNamedStruct\u001b[39m(\n",
       "      children = \u001b[33mList\u001b[39m(\n",
       "        \u001b[33mLiteral\u001b[39m(value = VendorID, dataType = StringType),\n",
       "        \u001b[33mInvoke\u001b[39m(\n",
       "          targetObject = \u001b[33mKnownNotNull\u001b[39m(\n",
       "            child = \u001b[33mBoundReference\u001b[39m(\n",
       "              ordinal = \u001b[32m0\u001b[39m,\n",
       "              dataType = \u001b[33mObjectType\u001b[39m(\n",
       "                cls = class ammonite.$sess.cmd50$Helper$Trip\n",
       "              ),\n",
       "              nullable = \u001b[32mtrue\u001b[39m\n",
       "            )\n",
       "          ),\n",
       "          functionName = \u001b[32m\"VendorID\"\u001b[39m,\n",
       "          dataType = IntegerType,\n",
       "          arguments = \u001b[33mList\u001b[39m(),\n",
       "          methodInputTypes = \u001b[33mList\u001b[39m(),\n",
       "          propagateNull = \u001b[32mtrue\u001b[39m,\n",
       "          returnNullable = \u001b[32mfalse\u001b[39m,\n",
       "...\n",
       "\u001b[36mtripsDS\u001b[39m: \u001b[32mDataset\u001b[39m[\u001b[32mTrip\u001b[39m] = [VendorID: int, tpep_pickup_datetime: timestamp ... 15 more fields]"
      ]
     },
     "execution_count": 50,
     "metadata": {},
     "output_type": "execute_result"
    }
   ],
   "source": [
    "// https://stackoverflow.com/questions/44516627/how-to-convert-a-dataframe-to-dataset-in-apache-spark-in-scala\n",
    "\n",
    "case class Trip(VendorID: Int)\n",
    "\n",
    "val encoder = org.apache.spark.sql.Encoders.product[Trip]\n",
    "val tripsDS = tripsDF.as(encoder)\n",
    "tripsDS.show()"
   ]
  },
  {
   "cell_type": "code",
   "execution_count": 51,
   "id": "fbb0872a-adb5-4af7-b731-3806f330bc94",
   "metadata": {
    "tags": []
   },
   "outputs": [
    {
     "name": "stdout",
     "output_type": "stream",
     "text": [
      "+--------+--------------------+---------------------+---------------+-------------+----------+------------------+------------+------------+------------+-----------+-----+-------+----------+------------+---------------------+------------+--------------------+--------------------+\n",
      "|VendorID|tpep_pickup_datetime|tpep_dropoff_datetime|passenger_count|trip_distance|RatecodeID|store_and_fwd_flag|PULocationID|DOLocationID|payment_type|fare_amount|extra|mta_tax|tip_amount|tolls_amount|improvement_surcharge|total_amount|           dstAvgSub|        dstAvgSubSqr|\n",
      "+--------+--------------------+---------------------+---------------+-------------+----------+------------------+------------+------------+------------+-----------+-----+-------+----------+------------+---------------------+------------+--------------------+--------------------+\n",
      "|       2| 2018-01-25 02:02:56|  2018-01-25 02:10:58|              1|         2.02|         1|                 N|          48|         107|           2|        8.5|  0.5|    0.5|       0.0|         0.0|                  0.3|         9.8| -0.6979894423804938|  0.4871892616746326|\n",
      "|       2| 2018-01-25 02:57:13|  2018-01-25 03:21:17|              1|        10.13|         1|                 N|          79|         244|           2|       28.5|  0.5|    0.5|       0.0|         0.0|                  0.3|        29.8|   7.412010557619507|   54.93790050626303|\n",
      "|       2| 2018-01-25 04:29:32|  2018-01-25 04:41:29|              1|         3.38|         1|                 N|         239|          48|           1|       13.0|  0.0|    0.5|      2.76|         0.0|                  0.3|       16.56|  0.6620105576195061| 0.43825797839968944|\n",
      "|       2| 2018-01-25 04:43:47|  2018-01-25 05:10:50|              1|          8.6|         1|                 N|          48|          36|           1|       28.0|  0.0|    0.5|       7.2|         0.0|                  0.3|        36.0|   5.882010557619505|   34.59804819994733|\n",
      "|       2| 2018-01-25 05:36:35|  2018-01-25 05:41:39|              1|         1.24|         1|                 N|         170|         107|           2|        6.0|  0.0|    0.5|       0.0|         0.0|                  0.3|         6.8| -1.4779894423804938|   2.184452791788203|\n",
      "|       2| 2018-01-25 08:14:21|  2018-01-25 08:30:04|              2|         2.47|         1|                 N|         151|         238|           1|       12.5|  0.0|    0.5|      2.66|         0.0|                  0.3|       15.96|-0.24798944238049359|0.061498763532188146|\n",
      "|       2| 2018-01-25 08:31:54|  2018-01-25 08:40:26|              1|         1.53|         1|                 N|         238|         143|           1|        8.0|  0.0|    0.5|      1.32|         0.0|                  0.3|       10.12| -1.1879894423804938|  1.4113189152075165|\n",
      "|       2| 2018-01-25 08:45:31|  2018-01-25 08:59:40|              2|          1.9|         1|                 N|         239|         237|           1|       11.0|  0.0|    0.5|      2.36|         0.0|                  0.3|       14.16| -0.8179894423804939|  0.6691067278459513|\n",
      "|       2| 2018-01-25 09:05:28|  2018-01-25 09:10:12|              1|          0.6|         1|                 N|         141|         237|           1|        5.0|  0.0|    0.5|      1.16|         0.0|                  0.3|        6.96| -2.1179894423804937|   4.485879278035235|\n",
      "|       2| 2018-01-25 09:11:49|  2018-01-25 09:17:53|              1|         0.66|         1|                 N|         236|         236|           1|        5.5|  0.0|    0.5|      1.26|         0.0|                  0.3|        7.56| -2.0579894423804936|   4.235320544949575|\n",
      "|       2| 2018-01-25 09:24:34|  2018-01-25 09:37:17|              2|         1.88|         1|                 N|         239|         237|           2|       10.0|  0.0|    0.5|       0.0|         0.0|                  0.3|        10.8| -0.8379894423804939|   0.702226305541171|\n",
      "|       2| 2018-01-25 09:46:42|  2018-01-25 09:59:10|              1|         1.51|         1|                 N|         237|          50|           1|        9.5|  0.0|    0.5|      2.06|         0.0|                  0.3|       12.36| -1.2079894423804938|  1.4592384929027362|\n",
      "|       2| 2018-01-25 10:08:28|  2018-01-25 10:19:08|              1|         1.49|         1|                 N|         143|         238|           1|        8.5|  0.0|    0.5|       1.0|         0.0|                  0.3|        10.3| -1.2279894423804938|   1.507958070597956|\n",
      "|       2| 2018-01-25 10:23:13|  2018-01-25 10:38:30|              1|         2.61|         1|                 N|         238|         237|           1|       12.0|  0.0|    0.5|      2.56|         0.0|                  0.3|       15.36| -0.1079894423804939|0.011661719665650013|\n",
      "|       2| 2018-01-25 10:47:34|  2018-01-25 10:52:06|              1|         0.48|         1|                 N|         141|         140|           2|        4.5|  0.0|    0.5|       0.0|         0.0|                  0.3|         5.3|  -2.237989442380494|   5.008596744206554|\n",
      "|       2| 2018-01-25 10:54:20|  2018-01-25 11:03:16|              1|         1.35|         1|                 N|         140|         236|           2|        7.5|  0.0|    0.5|       0.0|         0.0|                  0.3|         8.3| -1.3679894423804937|   1.871395114464494|\n",
      "|       2| 2018-01-25 11:05:03|  2018-01-25 11:06:28|              2|         0.19|         1|                 N|         236|         236|           1|        3.0|  0.0|    0.5|      0.76|         0.0|                  0.3|        4.56|  -2.527989442380494|    6.39073062078724|\n",
      "|       2| 2018-01-25 11:14:28|  2018-01-25 11:27:28|              1|         2.39|         1|                 N|         236|         166|           2|       11.5|  0.0|    0.5|       0.0|         0.0|                  0.3|        12.3|-0.32798944238049366| 0.10757707431306716|\n",
      "|       2| 2018-01-25 11:58:38|  2018-01-25 12:02:50|              1|         0.67|         1|                 N|         151|         238|           1|        5.0|  0.0|    0.5|       1.0|         0.0|                  0.3|         6.8|  -2.047989442380494|   4.194260756101966|\n",
      "|       2| 2018-01-25 12:05:37|  2018-01-25 12:17:34|              1|         2.18|         1|                 N|         238|         238|           1|       10.0|  0.0|    0.5|      3.24|         0.0|                  0.3|       14.04| -0.5379894423804936| 0.28943264011287445|\n",
      "+--------+--------------------+---------------------+---------------+-------------+----------+------------------+------------+------------+------------+-----------+-----+-------+----------+------------+---------------------+------------+--------------------+--------------------+\n",
      "only showing top 20 rows\n",
      "\n"
     ]
    },
    {
     "data": {
      "text/plain": [
       "\u001b[36mtripsDSAvg\u001b[39m: \u001b[32mDouble\u001b[39m = \u001b[32m2.717989442380494\u001b[39m\n",
       "\u001b[36mtripsExtDS\u001b[39m: \u001b[32mDataFrame\u001b[39m = [VendorID: int, tpep_pickup_datetime: timestamp ... 17 more fields]"
      ]
     },
     "execution_count": 51,
     "metadata": {},
     "output_type": "execute_result"
    }
   ],
   "source": [
    "val tripsDSAvg: Double = tripsDS.agg(avg(tripsDS.col(\"trip_distance\"))).collect()(0).getDouble(0)\n",
    "val tripsExtDS = (tripsDS\n",
    "     .withColumn(\"dstAvgSub\", tripsDS.col(\"trip_distance\") - tripsDSAvg)\n",
    "     .withColumn(\"dstAvgSubSqr\", $\"dstAvgSub\" * $\"dstAvgSub\")\n",
    ")\n",
    "tripsExtDS.createOrReplaceTempView(\"trips_ext\")\n",
    "tripsExtDS.show()"
   ]
  },
  {
   "cell_type": "code",
   "execution_count": 55,
   "id": "26d6b579-db59-46ce-aefd-733d7ef88178",
   "metadata": {
    "tags": []
   },
   "outputs": [
    {
     "name": "stdout",
     "output_type": "stream",
     "text": [
      "Статистика по поездкам\n",
      "+--------+------------------+------------------+------------------+-----------------+\n",
      "|count(1)|min(trip_distance)|max(trip_distance)|avg(trip_distance)|std_dev          |\n",
      "+--------+------------------+------------------+------------------+-----------------+\n",
      "|331893  |0.0               |66.0              |2.717989442380494 |3.485146974465618|\n",
      "+--------+------------------+------------------+------------------+-----------------+\n",
      "\n"
     ]
    },
    {
     "data": {
      "text/plain": [
       "\u001b[36mres\u001b[39m: \u001b[32mDataFrame\u001b[39m = [count(1): bigint, min(trip_distance): double ... 3 more fields]"
      ]
     },
     "execution_count": 55,
     "metadata": {},
     "output_type": "execute_result"
    }
   ],
   "source": [
    "val res = spark.sql(\"\"\"\n",
    "    SELECT\n",
    "        count(*),\n",
    "        min(trip_distance),\n",
    "        max(trip_distance),\n",
    "        avg(trip_distance),\n",
    "        sqrt( (1/count(*)) * sum(dstAvgSubSqr)) as std_dev\n",
    "    FROM trips_ext\n",
    "\"\"\")\n",
    "println(\"Статистика по поездкам\")\n",
    "res.show(false)\n",
    "res.write.parquet(\"tripsStat.parquet\")"
   ]
  }
 ],
 "metadata": {
  "kernelspec": {
   "display_name": "Scala",
   "language": "scala",
   "name": "scala"
  },
  "language_info": {
   "codemirror_mode": "text/x-scala",
   "file_extension": ".sc",
   "mimetype": "text/x-scala",
   "name": "scala",
   "nbconvert_exporter": "script",
   "version": "2.13.14"
  }
 },
 "nbformat": 4,
 "nbformat_minor": 5
}
